{
    "nbformat_minor": 1, 
    "cells": [
        {
            "source": "import numpy as np # library to handle data in a vectorized manner\nimport pandas as pd # library for data analsysis\npd.set_option('display.max_columns', None)\npd.set_option('display.max_rows', None)\nimport json # library to handle JSON files ", 
            "cell_type": "code", 
            "metadata": {}, 
            "outputs": [], 
            "execution_count": 1
        }, 
        {
            "source": "# import 2016 Census data for Edmonton neighborhoods - Population by Age Range \ndf_nb = pd.read_csv('https://data.edmonton.ca/api/views/phd4-y42v/rows.csv?accessType=DOWNLOAD')\ndf_nb.head ()", 
            "cell_type": "code", 
            "metadata": {}, 
            "outputs": [
                {
                    "output_type": "execute_result", 
                    "data": {
                        "text/plain": "      Ward  Neighbourhood Number Neighbourhood Name  0 - 4  5 - 9  10 - 14  \\\n0   WARD 1                  3140          CRESTWOOD     68     83       97   \n1   WARD 1                  3330           PARKVIEW    126    162      138   \n2  WARD 11                  6110         CPR IRVINE      0      1        0   \n3   WARD 9                  5350     RHATIGAN RIDGE     73    130      117   \n4   WARD 5                  4140            ELMWOOD    131    121      130   \n\n   15 - 19  20 - 24  25 - 29  30 - 34  35 - 39  40 - 44  45 - 49  50 - 54  \\\n0       99       76       62       59       74       77      110      116   \n1      165      155       96      128      149      164      164      218   \n2        0       18       44       39        4        1        1        6   \n3      112      112       84       56       83      107      103      142   \n4      169      180      185      173      135      154      154      161   \n\n   55 - 59  60 - 64  65 - 69  70 - 74  75 - 79  80 - 84  85+  No Response  \n0      148       98      100       91       80       64   49          800  \n1      247      197      146       89       90       82   64          705  \n2        1        0        1        0        0        2    0           48  \n3      185      205      171      102       74       42   39         1140  \n4      133      145      140       92      117       60   51          290  ", 
                        "text/html": "<div>\n<style scoped>\n    .dataframe tbody tr th:only-of-type {\n        vertical-align: middle;\n    }\n\n    .dataframe tbody tr th {\n        vertical-align: top;\n    }\n\n    .dataframe thead th {\n        text-align: right;\n    }\n</style>\n<table border=\"1\" class=\"dataframe\">\n  <thead>\n    <tr style=\"text-align: right;\">\n      <th></th>\n      <th>Ward</th>\n      <th>Neighbourhood Number</th>\n      <th>Neighbourhood Name</th>\n      <th>0 - 4</th>\n      <th>5 - 9</th>\n      <th>10 - 14</th>\n      <th>15 - 19</th>\n      <th>20 - 24</th>\n      <th>25 - 29</th>\n      <th>30 - 34</th>\n      <th>35 - 39</th>\n      <th>40 - 44</th>\n      <th>45 - 49</th>\n      <th>50 - 54</th>\n      <th>55 - 59</th>\n      <th>60 - 64</th>\n      <th>65 - 69</th>\n      <th>70 - 74</th>\n      <th>75 - 79</th>\n      <th>80 - 84</th>\n      <th>85+</th>\n      <th>No Response</th>\n    </tr>\n  </thead>\n  <tbody>\n    <tr>\n      <th>0</th>\n      <td>WARD 1</td>\n      <td>3140</td>\n      <td>CRESTWOOD</td>\n      <td>68</td>\n      <td>83</td>\n      <td>97</td>\n      <td>99</td>\n      <td>76</td>\n      <td>62</td>\n      <td>59</td>\n      <td>74</td>\n      <td>77</td>\n      <td>110</td>\n      <td>116</td>\n      <td>148</td>\n      <td>98</td>\n      <td>100</td>\n      <td>91</td>\n      <td>80</td>\n      <td>64</td>\n      <td>49</td>\n      <td>800</td>\n    </tr>\n    <tr>\n      <th>1</th>\n      <td>WARD 1</td>\n      <td>3330</td>\n      <td>PARKVIEW</td>\n      <td>126</td>\n      <td>162</td>\n      <td>138</td>\n      <td>165</td>\n      <td>155</td>\n      <td>96</td>\n      <td>128</td>\n      <td>149</td>\n      <td>164</td>\n      <td>164</td>\n      <td>218</td>\n      <td>247</td>\n      <td>197</td>\n      <td>146</td>\n      <td>89</td>\n      <td>90</td>\n      <td>82</td>\n      <td>64</td>\n      <td>705</td>\n    </tr>\n    <tr>\n      <th>2</th>\n      <td>WARD 11</td>\n      <td>6110</td>\n      <td>CPR IRVINE</td>\n      <td>0</td>\n      <td>1</td>\n      <td>0</td>\n      <td>0</td>\n      <td>18</td>\n      <td>44</td>\n      <td>39</td>\n      <td>4</td>\n      <td>1</td>\n      <td>1</td>\n      <td>6</td>\n      <td>1</td>\n      <td>0</td>\n      <td>1</td>\n      <td>0</td>\n      <td>0</td>\n      <td>2</td>\n      <td>0</td>\n      <td>48</td>\n    </tr>\n    <tr>\n      <th>3</th>\n      <td>WARD 9</td>\n      <td>5350</td>\n      <td>RHATIGAN RIDGE</td>\n      <td>73</td>\n      <td>130</td>\n      <td>117</td>\n      <td>112</td>\n      <td>112</td>\n      <td>84</td>\n      <td>56</td>\n      <td>83</td>\n      <td>107</td>\n      <td>103</td>\n      <td>142</td>\n      <td>185</td>\n      <td>205</td>\n      <td>171</td>\n      <td>102</td>\n      <td>74</td>\n      <td>42</td>\n      <td>39</td>\n      <td>1140</td>\n    </tr>\n    <tr>\n      <th>4</th>\n      <td>WARD 5</td>\n      <td>4140</td>\n      <td>ELMWOOD</td>\n      <td>131</td>\n      <td>121</td>\n      <td>130</td>\n      <td>169</td>\n      <td>180</td>\n      <td>185</td>\n      <td>173</td>\n      <td>135</td>\n      <td>154</td>\n      <td>154</td>\n      <td>161</td>\n      <td>133</td>\n      <td>145</td>\n      <td>140</td>\n      <td>92</td>\n      <td>117</td>\n      <td>60</td>\n      <td>51</td>\n      <td>290</td>\n    </tr>\n  </tbody>\n</table>\n</div>"
                    }, 
                    "execution_count": 2, 
                    "metadata": {}
                }
            ], 
            "execution_count": 2
        }, 
        {
            "source": "# Remove excessive columns 'Ward' and 'Neighbourhood Number'\ndf_nb = df_nb.drop(['Ward', 'Neighbourhood Number'], axis=1)\ndf_nb.head ()", 
            "cell_type": "code", 
            "metadata": {}, 
            "outputs": [
                {
                    "output_type": "execute_result", 
                    "data": {
                        "text/plain": "  Neighbourhood Name  0 - 4  5 - 9  10 - 14  15 - 19  20 - 24  25 - 29  \\\n0          CRESTWOOD     68     83       97       99       76       62   \n1           PARKVIEW    126    162      138      165      155       96   \n2         CPR IRVINE      0      1        0        0       18       44   \n3     RHATIGAN RIDGE     73    130      117      112      112       84   \n4            ELMWOOD    131    121      130      169      180      185   \n\n   30 - 34  35 - 39  40 - 44  45 - 49  50 - 54  55 - 59  60 - 64  65 - 69  \\\n0       59       74       77      110      116      148       98      100   \n1      128      149      164      164      218      247      197      146   \n2       39        4        1        1        6        1        0        1   \n3       56       83      107      103      142      185      205      171   \n4      173      135      154      154      161      133      145      140   \n\n   70 - 74  75 - 79  80 - 84  85+  No Response  \n0       91       80       64   49          800  \n1       89       90       82   64          705  \n2        0        0        2    0           48  \n3      102       74       42   39         1140  \n4       92      117       60   51          290  ", 
                        "text/html": "<div>\n<style scoped>\n    .dataframe tbody tr th:only-of-type {\n        vertical-align: middle;\n    }\n\n    .dataframe tbody tr th {\n        vertical-align: top;\n    }\n\n    .dataframe thead th {\n        text-align: right;\n    }\n</style>\n<table border=\"1\" class=\"dataframe\">\n  <thead>\n    <tr style=\"text-align: right;\">\n      <th></th>\n      <th>Neighbourhood Name</th>\n      <th>0 - 4</th>\n      <th>5 - 9</th>\n      <th>10 - 14</th>\n      <th>15 - 19</th>\n      <th>20 - 24</th>\n      <th>25 - 29</th>\n      <th>30 - 34</th>\n      <th>35 - 39</th>\n      <th>40 - 44</th>\n      <th>45 - 49</th>\n      <th>50 - 54</th>\n      <th>55 - 59</th>\n      <th>60 - 64</th>\n      <th>65 - 69</th>\n      <th>70 - 74</th>\n      <th>75 - 79</th>\n      <th>80 - 84</th>\n      <th>85+</th>\n      <th>No Response</th>\n    </tr>\n  </thead>\n  <tbody>\n    <tr>\n      <th>0</th>\n      <td>CRESTWOOD</td>\n      <td>68</td>\n      <td>83</td>\n      <td>97</td>\n      <td>99</td>\n      <td>76</td>\n      <td>62</td>\n      <td>59</td>\n      <td>74</td>\n      <td>77</td>\n      <td>110</td>\n      <td>116</td>\n      <td>148</td>\n      <td>98</td>\n      <td>100</td>\n      <td>91</td>\n      <td>80</td>\n      <td>64</td>\n      <td>49</td>\n      <td>800</td>\n    </tr>\n    <tr>\n      <th>1</th>\n      <td>PARKVIEW</td>\n      <td>126</td>\n      <td>162</td>\n      <td>138</td>\n      <td>165</td>\n      <td>155</td>\n      <td>96</td>\n      <td>128</td>\n      <td>149</td>\n      <td>164</td>\n      <td>164</td>\n      <td>218</td>\n      <td>247</td>\n      <td>197</td>\n      <td>146</td>\n      <td>89</td>\n      <td>90</td>\n      <td>82</td>\n      <td>64</td>\n      <td>705</td>\n    </tr>\n    <tr>\n      <th>2</th>\n      <td>CPR IRVINE</td>\n      <td>0</td>\n      <td>1</td>\n      <td>0</td>\n      <td>0</td>\n      <td>18</td>\n      <td>44</td>\n      <td>39</td>\n      <td>4</td>\n      <td>1</td>\n      <td>1</td>\n      <td>6</td>\n      <td>1</td>\n      <td>0</td>\n      <td>1</td>\n      <td>0</td>\n      <td>0</td>\n      <td>2</td>\n      <td>0</td>\n      <td>48</td>\n    </tr>\n    <tr>\n      <th>3</th>\n      <td>RHATIGAN RIDGE</td>\n      <td>73</td>\n      <td>130</td>\n      <td>117</td>\n      <td>112</td>\n      <td>112</td>\n      <td>84</td>\n      <td>56</td>\n      <td>83</td>\n      <td>107</td>\n      <td>103</td>\n      <td>142</td>\n      <td>185</td>\n      <td>205</td>\n      <td>171</td>\n      <td>102</td>\n      <td>74</td>\n      <td>42</td>\n      <td>39</td>\n      <td>1140</td>\n    </tr>\n    <tr>\n      <th>4</th>\n      <td>ELMWOOD</td>\n      <td>131</td>\n      <td>121</td>\n      <td>130</td>\n      <td>169</td>\n      <td>180</td>\n      <td>185</td>\n      <td>173</td>\n      <td>135</td>\n      <td>154</td>\n      <td>154</td>\n      <td>161</td>\n      <td>133</td>\n      <td>145</td>\n      <td>140</td>\n      <td>92</td>\n      <td>117</td>\n      <td>60</td>\n      <td>51</td>\n      <td>290</td>\n    </tr>\n  </tbody>\n</table>\n</div>"
                    }, 
                    "execution_count": 5, 
                    "metadata": {}
                }
            ], 
            "execution_count": 5
        }, 
        {
            "source": "# Let see the size of the frame\ndf_nb.shape", 
            "cell_type": "code", 
            "metadata": {}, 
            "outputs": [
                {
                    "output_type": "execute_result", 
                    "data": {
                        "text/plain": "(388, 20)"
                    }, 
                    "execution_count": 6, 
                    "metadata": {}
                }
            ], 
            "execution_count": 6
        }, 
        {
            "source": "", 
            "cell_type": "code", 
            "metadata": {}, 
            "outputs": [], 
            "execution_count": null
        }
    ], 
    "metadata": {
        "kernelspec": {
            "display_name": "Python 3.5", 
            "name": "python3", 
            "language": "python"
        }, 
        "language_info": {
            "mimetype": "text/x-python", 
            "nbconvert_exporter": "python", 
            "version": "3.5.5", 
            "name": "python", 
            "pygments_lexer": "ipython3", 
            "file_extension": ".py", 
            "codemirror_mode": {
                "version": 3, 
                "name": "ipython"
            }
        }
    }, 
    "nbformat": 4
}